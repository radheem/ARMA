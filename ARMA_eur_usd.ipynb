{
 "cells": [
  {
   "cell_type": "code",
   "execution_count": 17,
   "metadata": {},
   "outputs": [
    {
     "name": "stdout",
     "output_type": "stream",
     "text": [
      "Running on PyMC3 v3.8\n"
     ]
    }
   ],
   "source": [
    "%matplotlib inline\n",
    "import pymc3 as pm\n",
    "import numpy as np\n",
    "import matplotlib.pyplot as plt\n",
    "import arviz as az\n",
    "from theano import scan, shared\n",
    "\n",
    "plt.style.use('seaborn-darkgrid')\n",
    "print('Running on PyMC3 v{}'.format(pm.__version__))"
   ]
  },
  {
   "cell_type": "code",
   "execution_count": 3,
   "metadata": {},
   "outputs": [
    {
     "name": "stderr",
     "output_type": "stream",
     "text": [
      "C:\\Users\\DELL\\Anaconda3\\envs\\pp\\lib\\site-packages\\ipykernel_launcher.py:5: FutureWarning: Method .as_matrix will be removed in a future version. Use .values instead.\n",
      "  \"\"\"\n"
     ]
    },
    {
     "data": {
      "text/plain": [
       "[<matplotlib.lines.Line2D at 0x21d50220390>]"
      ]
     },
     "execution_count": 3,
     "metadata": {},
     "output_type": "execute_result"
    },
    {
     "data": {
      "image/png": "[encoded data removed]",
      "text/plain": [
       "<Figure size 432x288 with 1 Axes>"
      ]
     },
     "metadata": {},
     "output_type": "display_data"
    }
   ],
   "source": [
    "import pandas as pd\n",
    "\n",
    "data = pd.read_csv(\"./my_EUR_USD_Hdata.csv\")\n",
    "# print(data)\n",
    "X=data.as_matrix(columns=['Price'])\n",
    "price=np.reshape(X,1329)\n",
    "plt.plot(price)\n"
   ]
  },
  {
   "cell_type": "code",
   "execution_count": 10,
   "metadata": {},
   "outputs": [
    {
     "data": {
      "text/html": [
       "<div>\n",
       "<style scoped>\n",
       "    .dataframe tbody tr th:only-of-type {\n",
       "        vertical-align: middle;\n",
       "    }\n",
       "\n",
       "    .dataframe tbody tr th {\n",
       "        vertical-align: top;\n",
       "    }\n",
       "\n",
       "    .dataframe thead th {\n",
       "        text-align: right;\n",
       "    }\n",
       "</style>\n",
       "<table border=\"1\" class=\"dataframe\">\n",
       "  <thead>\n",
       "    <tr style=\"text-align: right;\">\n",
       "      <th></th>\n",
       "      <th>Date</th>\n",
       "      <th>Price</th>\n",
       "      <th>Open</th>\n",
       "      <th>High</th>\n",
       "      <th>Low</th>\n",
       "      <th>per_change</th>\n",
       "      <th>Days</th>\n",
       "    </tr>\n",
       "  </thead>\n",
       "  <tbody>\n",
       "    <tr>\n",
       "      <th>0</th>\n",
       "      <td>2014-10-28</td>\n",
       "      <td>1.2734</td>\n",
       "      <td>1.2698</td>\n",
       "      <td>1.2765</td>\n",
       "      <td>1.2683</td>\n",
       "      <td>0.0028</td>\n",
       "      <td>0</td>\n",
       "    </tr>\n",
       "    <tr>\n",
       "      <th>1</th>\n",
       "      <td>2014-10-29</td>\n",
       "      <td>1.2632</td>\n",
       "      <td>1.2735</td>\n",
       "      <td>1.2772</td>\n",
       "      <td>1.2631</td>\n",
       "      <td>-0.0080</td>\n",
       "      <td>1</td>\n",
       "    </tr>\n",
       "    <tr>\n",
       "      <th>2</th>\n",
       "      <td>2014-10-30</td>\n",
       "      <td>1.2613</td>\n",
       "      <td>1.2631</td>\n",
       "      <td>1.2640</td>\n",
       "      <td>1.2547</td>\n",
       "      <td>-0.0015</td>\n",
       "      <td>2</td>\n",
       "    </tr>\n",
       "    <tr>\n",
       "      <th>3</th>\n",
       "      <td>2014-10-31</td>\n",
       "      <td>1.2525</td>\n",
       "      <td>1.2612</td>\n",
       "      <td>1.2618</td>\n",
       "      <td>1.2485</td>\n",
       "      <td>-0.0070</td>\n",
       "      <td>3</td>\n",
       "    </tr>\n",
       "    <tr>\n",
       "      <th>4</th>\n",
       "      <td>2014-11-03</td>\n",
       "      <td>1.2483</td>\n",
       "      <td>1.2515</td>\n",
       "      <td>1.2517</td>\n",
       "      <td>1.2441</td>\n",
       "      <td>-0.0034</td>\n",
       "      <td>4</td>\n",
       "    </tr>\n",
       "  </tbody>\n",
       "</table>\n",
       "</div>"
      ],
      "text/plain": [
       "        Date   Price    Open    High     Low  per_change  Days\n",
       "0 2014-10-28  1.2734  1.2698  1.2765  1.2683      0.0028     0\n",
       "1 2014-10-29  1.2632  1.2735  1.2772  1.2631     -0.0080     1\n",
       "2 2014-10-30  1.2613  1.2631  1.2640  1.2547     -0.0015     2\n",
       "3 2014-10-31  1.2525  1.2612  1.2618  1.2485     -0.0070     3\n",
       "4 2014-11-03  1.2483  1.2515  1.2517  1.2441     -0.0034     4"
      ]
     },
     "execution_count": 10,
     "metadata": {},
     "output_type": "execute_result"
    }
   ],
   "source": [
    "data['Date']=pd.to_datetime(data['Date'])\n",
    "data.head()"
   ]
  },
  {
   "cell_type": "markdown",
   "metadata": {},
   "source": [
    "# Applying Augmented Dickey fuller test to EUR_USD data"
   ]
  },
  {
   "cell_type": "code",
   "execution_count": 9,
   "metadata": {},
   "outputs": [
    {
     "name": "stdout",
     "output_type": "stream",
     "text": [
      "ADF Statistic: -3.193092\n",
      "p-value: 0.020388\n",
      "Critical Values:\n",
      "\t1%: -3.435\n",
      "\t5%: -2.864\n",
      "\t10%: -2.568\n"
     ]
    }
   ],
   "source": [
    "from pandas import read_csv\n",
    "from statsmodels.tsa.stattools import adfuller\n",
    "# series = read_csv('daily-total-female-births.csv', header=0, index_col=0, squeeze=True)\n",
    "X = data['Price'].values\n",
    "result = adfuller(X)\n",
    "print('ADF Statistic: %f' % result[0])\n",
    "print('p-value: %f' % result[1])\n",
    "print('Critical Values:')\n",
    "for key, value in result[4].items():\n",
    "print('\\t%s: %.3f' % (key, value))"
   ]
  },
  {
   "cell_type": "raw",
   "metadata": {},
   "source": [
    "results show that we can reject null hypothesis and claim the series is stationary "
   ]
  },
  {
   "cell_type": "markdown",
   "metadata": {},
   "source": [
    "# Apply ARMA model"
   ]
  },
  {
   "cell_type": "markdown",
   "metadata": {},
   "source": [
    "since its already stationary we dont need to apply ARIMA"
   ]
  },
  {
   "cell_type": "code",
   "execution_count": 18,
   "metadata": {},
   "outputs": [],
   "source": [
    "def build_model():\n",
    "    y = shared(np.array(data['Price'], dtype=np.float32))\n",
    "    with pm.Model() as arma_model:\n",
    "        sigma = pm.HalfNormal('sigma', 5.)\n",
    "        theta = pm.Normal('theta', 0., sigma=1.)\n",
    "        phi = pm.Normal('phi', 0., sigma=2.)\n",
    "        mu = pm.Normal('mu', 0., sigma=10.)\n",
    "\n",
    "        err0 = y[0] - (mu + phi * mu)\n",
    "         \n",
    "        def calc_next(last_y, this_y, err, mu, phi, theta):\n",
    "            nu_t = mu + phi * last_y + theta * err\n",
    "            return this_y - nu_t\n",
    "\n",
    "        err, _ = scan(fn=calc_next,sequences=dict(input=y, taps=[-1, 0]),outputs_info=[err0],non_sequences=[mu, phi, theta])\n",
    "\n",
    "        pm.Potential('like', pm.Normal.dist(0, sigma=sigma).logp(err))\n",
    "\n",
    "    return arma_model\n"
   ]
  },
  {
   "cell_type": "code",
   "execution_count": null,
   "metadata": {},
   "outputs": [
    {
     "name": "stderr",
     "output_type": "stream",
     "text": [
      "Auto-assigning NUTS sampler...\n",
      "Initializing NUTS using jitter+adapt_diag...\n"
     ]
    }
   ],
   "source": [
    "n_samples=1000\n",
    "model = build_model()\n",
    "with model:\n",
    "    trace = pm.sample(draws=n_samples,tune=1000,target_accept=.99)\n",
    "\n",
    "pm.plots.traceplot(trace)\n",
    "pm.plots.forestplot(trace)"
   ]
  },
  {
   "cell_type": "code",
   "execution_count": null,
   "metadata": {},
   "outputs": [],
   "source": []
  }
 ],
 "metadata": {
  "kernelspec": {
   "display_name": "Python 3",
   "language": "python",
   "name": "python3"
  },
  "language_info": {
   "codemirror_mode": {
    "name": "ipython",
    "version": 3
   },
   "file_extension": ".py",
   "mimetype": "text/x-python",
   "name": "python",
   "nbconvert_exporter": "python",
   "pygments_lexer": "ipython3",
   "version": "3.7.0"
  }
 },
 "nbformat": 4,
 "nbformat_minor": 2
}
